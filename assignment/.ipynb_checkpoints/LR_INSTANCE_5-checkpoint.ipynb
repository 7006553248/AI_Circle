{
 "cells": [
  {
   "cell_type": "code",
   "execution_count": 1,
   "metadata": {
    "collapsed": false
   },
   "outputs": [
    {
     "name": "stderr",
     "output_type": "stream",
     "text": [
      "F:\\Anaconda\\lib\\site-packages\\sklearn\\cross_validation.py:44: DeprecationWarning: This module was deprecated in version 0.18 in favor of the model_selection module into which all the refactored classes and functions are moved. Also note that the interface of the new CV iterators are different from that of this module. This module will be removed in 0.20.\n",
      "  \"This module will be removed in 0.20.\", DeprecationWarning)\n"
     ]
    }
   ],
   "source": [
    "import pandas as pd\n",
    "import random\n",
    "from sklearn.linear_model import LinearRegression\n",
    "from sklearn.cross_validation import train_test_split\n",
    "import seaborn as sns\n",
    "import numpy as np\n",
    "from sklearn.metrics import mean_squared_error as loss\n",
    "import matplotlib.pyplot as plt\n",
    "%matplotlib inline\n",
    "df = pd.read_csv(\"train.csv\")\n",
    "np.random.seed(6)\n",
    "\n"
   ]
  },
  {
   "cell_type": "code",
   "execution_count": 2,
   "metadata": {
    "collapsed": false
   },
   "outputs": [
    {
     "data": {
      "text/html": [
       "<div>\n",
       "<style>\n",
       "    .dataframe thead tr:only-child th {\n",
       "        text-align: right;\n",
       "    }\n",
       "\n",
       "    .dataframe thead th {\n",
       "        text-align: left;\n",
       "    }\n",
       "\n",
       "    .dataframe tbody tr th {\n",
       "        vertical-align: top;\n",
       "    }\n",
       "</style>\n",
       "<table border=\"1\" class=\"dataframe\">\n",
       "  <thead>\n",
       "    <tr style=\"text-align: right;\">\n",
       "      <th></th>\n",
       "      <th>ID</th>\n",
       "      <th>crim</th>\n",
       "      <th>zn</th>\n",
       "      <th>indus</th>\n",
       "      <th>chas</th>\n",
       "      <th>nox</th>\n",
       "      <th>rm</th>\n",
       "      <th>age</th>\n",
       "      <th>dis</th>\n",
       "      <th>rad</th>\n",
       "      <th>tax</th>\n",
       "      <th>ptratio</th>\n",
       "      <th>black</th>\n",
       "      <th>lstat</th>\n",
       "      <th>medv</th>\n",
       "    </tr>\n",
       "  </thead>\n",
       "  <tbody>\n",
       "    <tr>\n",
       "      <th>0</th>\n",
       "      <td>1</td>\n",
       "      <td>0.00632</td>\n",
       "      <td>18.0</td>\n",
       "      <td>2.31</td>\n",
       "      <td>0</td>\n",
       "      <td>0.538</td>\n",
       "      <td>6.575</td>\n",
       "      <td>65.2</td>\n",
       "      <td>4.0900</td>\n",
       "      <td>1</td>\n",
       "      <td>296</td>\n",
       "      <td>15.3</td>\n",
       "      <td>396.90</td>\n",
       "      <td>4.98</td>\n",
       "      <td>24.0</td>\n",
       "    </tr>\n",
       "    <tr>\n",
       "      <th>1</th>\n",
       "      <td>2</td>\n",
       "      <td>0.02731</td>\n",
       "      <td>0.0</td>\n",
       "      <td>7.07</td>\n",
       "      <td>0</td>\n",
       "      <td>0.469</td>\n",
       "      <td>6.421</td>\n",
       "      <td>78.9</td>\n",
       "      <td>4.9671</td>\n",
       "      <td>2</td>\n",
       "      <td>242</td>\n",
       "      <td>17.8</td>\n",
       "      <td>396.90</td>\n",
       "      <td>9.14</td>\n",
       "      <td>21.6</td>\n",
       "    </tr>\n",
       "    <tr>\n",
       "      <th>2</th>\n",
       "      <td>4</td>\n",
       "      <td>0.03237</td>\n",
       "      <td>0.0</td>\n",
       "      <td>2.18</td>\n",
       "      <td>0</td>\n",
       "      <td>0.458</td>\n",
       "      <td>6.998</td>\n",
       "      <td>45.8</td>\n",
       "      <td>6.0622</td>\n",
       "      <td>3</td>\n",
       "      <td>222</td>\n",
       "      <td>18.7</td>\n",
       "      <td>394.63</td>\n",
       "      <td>2.94</td>\n",
       "      <td>33.4</td>\n",
       "    </tr>\n",
       "    <tr>\n",
       "      <th>3</th>\n",
       "      <td>5</td>\n",
       "      <td>0.06905</td>\n",
       "      <td>0.0</td>\n",
       "      <td>2.18</td>\n",
       "      <td>0</td>\n",
       "      <td>0.458</td>\n",
       "      <td>7.147</td>\n",
       "      <td>54.2</td>\n",
       "      <td>6.0622</td>\n",
       "      <td>3</td>\n",
       "      <td>222</td>\n",
       "      <td>18.7</td>\n",
       "      <td>396.90</td>\n",
       "      <td>5.33</td>\n",
       "      <td>36.2</td>\n",
       "    </tr>\n",
       "    <tr>\n",
       "      <th>4</th>\n",
       "      <td>7</td>\n",
       "      <td>0.08829</td>\n",
       "      <td>12.5</td>\n",
       "      <td>7.87</td>\n",
       "      <td>0</td>\n",
       "      <td>0.524</td>\n",
       "      <td>6.012</td>\n",
       "      <td>66.6</td>\n",
       "      <td>5.5605</td>\n",
       "      <td>5</td>\n",
       "      <td>311</td>\n",
       "      <td>15.2</td>\n",
       "      <td>395.60</td>\n",
       "      <td>12.43</td>\n",
       "      <td>22.9</td>\n",
       "    </tr>\n",
       "    <tr>\n",
       "      <th>5</th>\n",
       "      <td>11</td>\n",
       "      <td>0.22489</td>\n",
       "      <td>12.5</td>\n",
       "      <td>7.87</td>\n",
       "      <td>0</td>\n",
       "      <td>0.524</td>\n",
       "      <td>6.377</td>\n",
       "      <td>94.3</td>\n",
       "      <td>6.3467</td>\n",
       "      <td>5</td>\n",
       "      <td>311</td>\n",
       "      <td>15.2</td>\n",
       "      <td>392.52</td>\n",
       "      <td>20.45</td>\n",
       "      <td>15.0</td>\n",
       "    </tr>\n",
       "    <tr>\n",
       "      <th>6</th>\n",
       "      <td>12</td>\n",
       "      <td>0.11747</td>\n",
       "      <td>12.5</td>\n",
       "      <td>7.87</td>\n",
       "      <td>0</td>\n",
       "      <td>0.524</td>\n",
       "      <td>6.009</td>\n",
       "      <td>82.9</td>\n",
       "      <td>6.2267</td>\n",
       "      <td>5</td>\n",
       "      <td>311</td>\n",
       "      <td>15.2</td>\n",
       "      <td>396.90</td>\n",
       "      <td>13.27</td>\n",
       "      <td>18.9</td>\n",
       "    </tr>\n",
       "    <tr>\n",
       "      <th>7</th>\n",
       "      <td>13</td>\n",
       "      <td>0.09378</td>\n",
       "      <td>12.5</td>\n",
       "      <td>7.87</td>\n",
       "      <td>0</td>\n",
       "      <td>0.524</td>\n",
       "      <td>5.889</td>\n",
       "      <td>39.0</td>\n",
       "      <td>5.4509</td>\n",
       "      <td>5</td>\n",
       "      <td>311</td>\n",
       "      <td>15.2</td>\n",
       "      <td>390.50</td>\n",
       "      <td>15.71</td>\n",
       "      <td>21.7</td>\n",
       "    </tr>\n",
       "    <tr>\n",
       "      <th>8</th>\n",
       "      <td>14</td>\n",
       "      <td>0.62976</td>\n",
       "      <td>0.0</td>\n",
       "      <td>8.14</td>\n",
       "      <td>0</td>\n",
       "      <td>0.538</td>\n",
       "      <td>5.949</td>\n",
       "      <td>61.8</td>\n",
       "      <td>4.7075</td>\n",
       "      <td>4</td>\n",
       "      <td>307</td>\n",
       "      <td>21.0</td>\n",
       "      <td>396.90</td>\n",
       "      <td>8.26</td>\n",
       "      <td>20.4</td>\n",
       "    </tr>\n",
       "    <tr>\n",
       "      <th>9</th>\n",
       "      <td>15</td>\n",
       "      <td>0.63796</td>\n",
       "      <td>0.0</td>\n",
       "      <td>8.14</td>\n",
       "      <td>0</td>\n",
       "      <td>0.538</td>\n",
       "      <td>6.096</td>\n",
       "      <td>84.5</td>\n",
       "      <td>4.4619</td>\n",
       "      <td>4</td>\n",
       "      <td>307</td>\n",
       "      <td>21.0</td>\n",
       "      <td>380.02</td>\n",
       "      <td>10.26</td>\n",
       "      <td>18.2</td>\n",
       "    </tr>\n",
       "    <tr>\n",
       "      <th>10</th>\n",
       "      <td>16</td>\n",
       "      <td>0.62739</td>\n",
       "      <td>0.0</td>\n",
       "      <td>8.14</td>\n",
       "      <td>0</td>\n",
       "      <td>0.538</td>\n",
       "      <td>5.834</td>\n",
       "      <td>56.5</td>\n",
       "      <td>4.4986</td>\n",
       "      <td>4</td>\n",
       "      <td>307</td>\n",
       "      <td>21.0</td>\n",
       "      <td>395.62</td>\n",
       "      <td>8.47</td>\n",
       "      <td>19.9</td>\n",
       "    </tr>\n",
       "    <tr>\n",
       "      <th>11</th>\n",
       "      <td>17</td>\n",
       "      <td>1.05393</td>\n",
       "      <td>0.0</td>\n",
       "      <td>8.14</td>\n",
       "      <td>0</td>\n",
       "      <td>0.538</td>\n",
       "      <td>5.935</td>\n",
       "      <td>29.3</td>\n",
       "      <td>4.4986</td>\n",
       "      <td>4</td>\n",
       "      <td>307</td>\n",
       "      <td>21.0</td>\n",
       "      <td>386.85</td>\n",
       "      <td>6.58</td>\n",
       "      <td>23.1</td>\n",
       "    </tr>\n",
       "    <tr>\n",
       "      <th>12</th>\n",
       "      <td>19</td>\n",
       "      <td>0.80271</td>\n",
       "      <td>0.0</td>\n",
       "      <td>8.14</td>\n",
       "      <td>0</td>\n",
       "      <td>0.538</td>\n",
       "      <td>5.456</td>\n",
       "      <td>36.6</td>\n",
       "      <td>3.7965</td>\n",
       "      <td>4</td>\n",
       "      <td>307</td>\n",
       "      <td>21.0</td>\n",
       "      <td>288.99</td>\n",
       "      <td>11.69</td>\n",
       "      <td>20.2</td>\n",
       "    </tr>\n",
       "    <tr>\n",
       "      <th>13</th>\n",
       "      <td>21</td>\n",
       "      <td>1.25179</td>\n",
       "      <td>0.0</td>\n",
       "      <td>8.14</td>\n",
       "      <td>0</td>\n",
       "      <td>0.538</td>\n",
       "      <td>5.570</td>\n",
       "      <td>98.1</td>\n",
       "      <td>3.7979</td>\n",
       "      <td>4</td>\n",
       "      <td>307</td>\n",
       "      <td>21.0</td>\n",
       "      <td>376.57</td>\n",
       "      <td>21.02</td>\n",
       "      <td>13.6</td>\n",
       "    </tr>\n",
       "    <tr>\n",
       "      <th>14</th>\n",
       "      <td>22</td>\n",
       "      <td>0.85204</td>\n",
       "      <td>0.0</td>\n",
       "      <td>8.14</td>\n",
       "      <td>0</td>\n",
       "      <td>0.538</td>\n",
       "      <td>5.965</td>\n",
       "      <td>89.2</td>\n",
       "      <td>4.0123</td>\n",
       "      <td>4</td>\n",
       "      <td>307</td>\n",
       "      <td>21.0</td>\n",
       "      <td>392.53</td>\n",
       "      <td>13.83</td>\n",
       "      <td>19.6</td>\n",
       "    </tr>\n",
       "  </tbody>\n",
       "</table>\n",
       "</div>"
      ],
      "text/plain": [
       "    ID     crim    zn  indus  chas    nox     rm   age     dis  rad  tax  \\\n",
       "0    1  0.00632  18.0   2.31     0  0.538  6.575  65.2  4.0900    1  296   \n",
       "1    2  0.02731   0.0   7.07     0  0.469  6.421  78.9  4.9671    2  242   \n",
       "2    4  0.03237   0.0   2.18     0  0.458  6.998  45.8  6.0622    3  222   \n",
       "3    5  0.06905   0.0   2.18     0  0.458  7.147  54.2  6.0622    3  222   \n",
       "4    7  0.08829  12.5   7.87     0  0.524  6.012  66.6  5.5605    5  311   \n",
       "5   11  0.22489  12.5   7.87     0  0.524  6.377  94.3  6.3467    5  311   \n",
       "6   12  0.11747  12.5   7.87     0  0.524  6.009  82.9  6.2267    5  311   \n",
       "7   13  0.09378  12.5   7.87     0  0.524  5.889  39.0  5.4509    5  311   \n",
       "8   14  0.62976   0.0   8.14     0  0.538  5.949  61.8  4.7075    4  307   \n",
       "9   15  0.63796   0.0   8.14     0  0.538  6.096  84.5  4.4619    4  307   \n",
       "10  16  0.62739   0.0   8.14     0  0.538  5.834  56.5  4.4986    4  307   \n",
       "11  17  1.05393   0.0   8.14     0  0.538  5.935  29.3  4.4986    4  307   \n",
       "12  19  0.80271   0.0   8.14     0  0.538  5.456  36.6  3.7965    4  307   \n",
       "13  21  1.25179   0.0   8.14     0  0.538  5.570  98.1  3.7979    4  307   \n",
       "14  22  0.85204   0.0   8.14     0  0.538  5.965  89.2  4.0123    4  307   \n",
       "\n",
       "    ptratio   black  lstat  medv  \n",
       "0      15.3  396.90   4.98  24.0  \n",
       "1      17.8  396.90   9.14  21.6  \n",
       "2      18.7  394.63   2.94  33.4  \n",
       "3      18.7  396.90   5.33  36.2  \n",
       "4      15.2  395.60  12.43  22.9  \n",
       "5      15.2  392.52  20.45  15.0  \n",
       "6      15.2  396.90  13.27  18.9  \n",
       "7      15.2  390.50  15.71  21.7  \n",
       "8      21.0  396.90   8.26  20.4  \n",
       "9      21.0  380.02  10.26  18.2  \n",
       "10     21.0  395.62   8.47  19.9  \n",
       "11     21.0  386.85   6.58  23.1  \n",
       "12     21.0  288.99  11.69  20.2  \n",
       "13     21.0  376.57  21.02  13.6  \n",
       "14     21.0  392.53  13.83  19.6  "
      ]
     },
     "execution_count": 2,
     "metadata": {},
     "output_type": "execute_result"
    }
   ],
   "source": [
    "df.head(15)"
   ]
  },
  {
   "cell_type": "code",
   "execution_count": 3,
   "metadata": {
    "collapsed": true
   },
   "outputs": [],
   "source": [
    "#df_new = df[df.apply(lambda x: np.abs(x - x.mean()) / x.std() < 4).all(axis=1)]\n"
   ]
  },
  {
   "cell_type": "code",
   "execution_count": 4,
   "metadata": {
    "collapsed": false
   },
   "outputs": [
    {
     "data": {
      "text/plain": [
       "(333, 15)"
      ]
     },
     "execution_count": 4,
     "metadata": {},
     "output_type": "execute_result"
    }
   ],
   "source": [
    "df.shape#,df_new.shape"
   ]
  },
  {
   "cell_type": "code",
   "execution_count": 5,
   "metadata": {
    "collapsed": false
   },
   "outputs": [
    {
     "data": {
      "text/plain": [
       "<matplotlib.axes._subplots.AxesSubplot at 0x1f3d3937550>"
      ]
     },
     "execution_count": 5,
     "metadata": {},
     "output_type": "execute_result"
    },
    {
     "data": {
      "image/png": "[encoded data removed]",
      "text/plain": [
       "<matplotlib.figure.Figure at 0x1f3d3937978>"
      ]
     },
     "metadata": {},
     "output_type": "display_data"
    }
   ],
   "source": [
    "corr = df.corr()\n",
    "plt.rcParams[\"figure.figsize\"] = (10,10)\n",
    "sns.heatmap(corr, cmap = \"coolwarm\", annot = True)"
   ]
  },
  {
   "cell_type": "code",
   "execution_count": 6,
   "metadata": {
    "collapsed": false
   },
   "outputs": [
    {
     "data": {
      "text/plain": [
       "<bound method DataFrame.skew of       ID      crim    zn  indus  chas    nox     rm    age     dis  rad  tax  \\\n",
       "0      1   0.00632  18.0   2.31     0  0.538  6.575   65.2  4.0900    1  296   \n",
       "1      2   0.02731   0.0   7.07     0  0.469  6.421   78.9  4.9671    2  242   \n",
       "2      4   0.03237   0.0   2.18     0  0.458  6.998   45.8  6.0622    3  222   \n",
       "3      5   0.06905   0.0   2.18     0  0.458  7.147   54.2  6.0622    3  222   \n",
       "4      7   0.08829  12.5   7.87     0  0.524  6.012   66.6  5.5605    5  311   \n",
       "5     11   0.22489  12.5   7.87     0  0.524  6.377   94.3  6.3467    5  311   \n",
       "6     12   0.11747  12.5   7.87     0  0.524  6.009   82.9  6.2267    5  311   \n",
       "7     13   0.09378  12.5   7.87     0  0.524  5.889   39.0  5.4509    5  311   \n",
       "8     14   0.62976   0.0   8.14     0  0.538  5.949   61.8  4.7075    4  307   \n",
       "9     15   0.63796   0.0   8.14     0  0.538  6.096   84.5  4.4619    4  307   \n",
       "10    16   0.62739   0.0   8.14     0  0.538  5.834   56.5  4.4986    4  307   \n",
       "11    17   1.05393   0.0   8.14     0  0.538  5.935   29.3  4.4986    4  307   \n",
       "12    19   0.80271   0.0   8.14     0  0.538  5.456   36.6  3.7965    4  307   \n",
       "13    21   1.25179   0.0   8.14     0  0.538  5.570   98.1  3.7979    4  307   \n",
       "14    22   0.85204   0.0   8.14     0  0.538  5.965   89.2  4.0123    4  307   \n",
       "15    23   1.23247   0.0   8.14     0  0.538  6.142   91.7  3.9769    4  307   \n",
       "16    24   0.98843   0.0   8.14     0  0.538  5.813  100.0  4.0952    4  307   \n",
       "17    28   0.95577   0.0   8.14     0  0.538  6.047   88.8  4.4534    4  307   \n",
       "18    31   1.13081   0.0   8.14     0  0.538  5.713   94.1  4.2330    4  307   \n",
       "19    32   1.35472   0.0   8.14     0  0.538  6.072  100.0  4.1750    4  307   \n",
       "20    35   1.61282   0.0   8.14     0  0.538  6.096   96.9  3.7598    4  307   \n",
       "21    39   0.17505   0.0   5.96     0  0.499  5.966   30.2  3.8473    5  279   \n",
       "22    40   0.02763  75.0   2.95     0  0.428  6.595   21.8  5.4011    3  252   \n",
       "23    41   0.03359  75.0   2.95     0  0.428  7.024   15.8  5.4011    3  252   \n",
       "24    43   0.14150   0.0   6.91     0  0.448  6.169    6.6  5.7209    3  233   \n",
       "25    44   0.15936   0.0   6.91     0  0.448  6.211    6.5  5.7209    3  233   \n",
       "26    45   0.12269   0.0   6.91     0  0.448  6.069   40.0  5.7209    3  233   \n",
       "27    46   0.17142   0.0   6.91     0  0.448  5.682   33.8  5.1004    3  233   \n",
       "28    47   0.18836   0.0   6.91     0  0.448  5.786   33.3  5.1004    3  233   \n",
       "29    48   0.22927   0.0   6.91     0  0.448  6.030   85.5  5.6894    3  233   \n",
       "..   ...       ...   ...    ...   ...    ...    ...    ...     ...  ...  ...   \n",
       "303  465   7.83932   0.0  18.10     0  0.655  6.209   65.4  2.9634   24  666   \n",
       "304  466   3.16360   0.0  18.10     0  0.655  5.759   48.2  3.0665   24  666   \n",
       "305  467   3.77498   0.0  18.10     0  0.655  5.952   84.7  2.8715   24  666   \n",
       "306  468   4.42228   0.0  18.10     0  0.584  6.003   94.5  2.5403   24  666   \n",
       "307  469  15.57570   0.0  18.10     0  0.580  5.926   71.0  2.9084   24  666   \n",
       "308  470  13.07510   0.0  18.10     0  0.580  5.713   56.7  2.8237   24  666   \n",
       "309  472   4.03841   0.0  18.10     0  0.532  6.229   90.7  3.0993   24  666   \n",
       "310  473   3.56868   0.0  18.10     0  0.580  6.437   75.0  2.8965   24  666   \n",
       "311  475   8.05579   0.0  18.10     0  0.584  5.427   95.4  2.4298   24  666   \n",
       "312  477   4.87141   0.0  18.10     0  0.614  6.484   93.6  2.3053   24  666   \n",
       "313  478  15.02340   0.0  18.10     0  0.614  5.304   97.3  2.1007   24  666   \n",
       "314  479  10.23300   0.0  18.10     0  0.614  6.185   96.7  2.1705   24  666   \n",
       "315  480  14.33370   0.0  18.10     0  0.614  6.229   88.0  1.9512   24  666   \n",
       "316  481   5.82401   0.0  18.10     0  0.532  6.242   64.7  3.4242   24  666   \n",
       "317  482   5.70818   0.0  18.10     0  0.532  6.750   74.9  3.3317   24  666   \n",
       "318  484   2.81838   0.0  18.10     0  0.532  5.762   40.3  4.0983   24  666   \n",
       "319  485   2.37857   0.0  18.10     0  0.583  5.871   41.9  3.7240   24  666   \n",
       "320  487   5.69175   0.0  18.10     0  0.583  6.114   79.8  3.5459   24  666   \n",
       "321  488   4.83567   0.0  18.10     0  0.583  5.905   53.2  3.1523   24  666   \n",
       "322  489   0.15086   0.0  27.74     0  0.609  5.454   92.7  1.8209    4  711   \n",
       "323  491   0.20746   0.0  27.74     0  0.609  5.093   98.0  1.8226    4  711   \n",
       "324  492   0.10574   0.0  27.74     0  0.609  5.983   98.8  1.8681    4  711   \n",
       "325  493   0.11132   0.0  27.74     0  0.609  5.983   83.5  2.1099    4  711   \n",
       "326  494   0.17331   0.0   9.69     0  0.585  5.707   54.0  2.3817    6  391   \n",
       "327  498   0.26838   0.0   9.69     0  0.585  5.794   70.6  2.8927    6  391   \n",
       "328  500   0.17783   0.0   9.69     0  0.585  5.569   73.5  2.3999    6  391   \n",
       "329  502   0.06263   0.0  11.93     0  0.573  6.593   69.1  2.4786    1  273   \n",
       "330  503   0.04527   0.0  11.93     0  0.573  6.120   76.7  2.2875    1  273   \n",
       "331  504   0.06076   0.0  11.93     0  0.573  6.976   91.0  2.1675    1  273   \n",
       "332  506   0.04741   0.0  11.93     0  0.573  6.030   80.8  2.5050    1  273   \n",
       "\n",
       "     ptratio   black  lstat  medv  \n",
       "0       15.3  396.90   4.98  24.0  \n",
       "1       17.8  396.90   9.14  21.6  \n",
       "2       18.7  394.63   2.94  33.4  \n",
       "3       18.7  396.90   5.33  36.2  \n",
       "4       15.2  395.60  12.43  22.9  \n",
       "5       15.2  392.52  20.45  15.0  \n",
       "6       15.2  396.90  13.27  18.9  \n",
       "7       15.2  390.50  15.71  21.7  \n",
       "8       21.0  396.90   8.26  20.4  \n",
       "9       21.0  380.02  10.26  18.2  \n",
       "10      21.0  395.62   8.47  19.9  \n",
       "11      21.0  386.85   6.58  23.1  \n",
       "12      21.0  288.99  11.69  20.2  \n",
       "13      21.0  376.57  21.02  13.6  \n",
       "14      21.0  392.53  13.83  19.6  \n",
       "15      21.0  396.90  18.72  15.2  \n",
       "16      21.0  394.54  19.88  14.5  \n",
       "17      21.0  306.38  17.28  14.8  \n",
       "18      21.0  360.17  22.60  12.7  \n",
       "19      21.0  376.73  13.04  14.5  \n",
       "20      21.0  248.31  20.34  13.5  \n",
       "21      19.2  393.43  10.13  24.7  \n",
       "22      18.3  395.63   4.32  30.8  \n",
       "23      18.3  395.62   1.98  34.9  \n",
       "24      17.9  383.37   5.81  25.3  \n",
       "25      17.9  394.46   7.44  24.7  \n",
       "26      17.9  389.39   9.55  21.2  \n",
       "27      17.9  396.90  10.21  19.3  \n",
       "28      17.9  396.90  14.15  20.0  \n",
       "29      17.9  392.74  18.80  16.6  \n",
       "..       ...     ...    ...   ...  \n",
       "303     20.2  396.90  13.22  21.4  \n",
       "304     20.2  334.40  14.13  19.9  \n",
       "305     20.2   22.01  17.15  19.0  \n",
       "306     20.2  331.29  21.32  19.1  \n",
       "307     20.2  368.74  18.13  19.1  \n",
       "308     20.2  396.90  14.76  20.1  \n",
       "309     20.2  395.33  12.87  19.6  \n",
       "310     20.2  393.37  14.36  23.2  \n",
       "311     20.2  352.58  18.14  13.8  \n",
       "312     20.2  396.21  18.68  16.7  \n",
       "313     20.2  349.48  24.91  12.0  \n",
       "314     20.2  379.70  18.03  14.6  \n",
       "315     20.2  383.32  13.11  21.4  \n",
       "316     20.2  396.90  10.74  23.0  \n",
       "317     20.2  393.07   7.74  23.7  \n",
       "318     20.2  392.92  10.42  21.8  \n",
       "319     20.2  370.73  13.34  20.6  \n",
       "320     20.2  392.68  14.98  19.1  \n",
       "321     20.2  388.22  11.45  20.6  \n",
       "322     20.1  395.09  18.06  15.2  \n",
       "323     20.1  318.43  29.68   8.1  \n",
       "324     20.1  390.11  18.07  13.6  \n",
       "325     20.1  396.90  13.35  20.1  \n",
       "326     19.2  396.90  12.01  21.8  \n",
       "327     19.2  396.90  14.10  18.3  \n",
       "328     19.2  395.77  15.10  17.5  \n",
       "329     21.0  391.99   9.67  22.4  \n",
       "330     21.0  396.90   9.08  20.6  \n",
       "331     21.0  396.90   5.64  23.9  \n",
       "332     21.0  396.90   7.88  11.9  \n",
       "\n",
       "[333 rows x 15 columns]>"
      ]
     },
     "execution_count": 6,
     "metadata": {},
     "output_type": "execute_result"
    }
   ],
   "source": [
    "df.skew"
   ]
  },
  {
   "cell_type": "code",
   "execution_count": 31,
   "metadata": {
    "collapsed": true
   },
   "outputs": [],
   "source": [
    "#standardisation\n",
    "df = (df - df.mean())/df.std()\n",
    "\n",
    "#Normalisation\n",
    "df = (df - df.mean())/(df.max() - df.min())"
   ]
  },
  {
   "cell_type": "code",
   "execution_count": 32,
   "metadata": {
    "collapsed": false
   },
   "outputs": [
    {
     "name": "stdout",
     "output_type": "stream",
     "text": [
      "         ID      crim        zn     indus     chas       nox        rm  \\\n",
      "0 -0.494954 -0.045616  0.073108 -0.332722 -0.06006 -0.039391  0.059911   \n",
      "1 -0.492974 -0.045330 -0.106892 -0.156425 -0.06006 -0.181367  0.030089   \n",
      "2 -0.489014 -0.045261 -0.106892 -0.337536 -0.06006 -0.204000  0.141824   \n",
      "3 -0.487034 -0.044763 -0.106892 -0.337536 -0.06006 -0.204000  0.170678   \n",
      "4 -0.483073 -0.044501  0.018108 -0.126796 -0.06006 -0.068198 -0.049113   \n",
      "\n",
      "        age       dis       rad   ptratio     black     lstat  \n",
      "0 -0.032196  0.039670 -0.375375 -0.366052  0.095155 -0.207931  \n",
      "1  0.113549  0.131219 -0.331897 -0.075354  0.095155 -0.093141  \n",
      "2 -0.238579  0.245521 -0.288419  0.029297  0.089385 -0.264223  \n",
      "3 -0.149217  0.245521 -0.288419  0.029297  0.095155 -0.198274  \n",
      "4 -0.017302  0.193156 -0.201462 -0.377680  0.091850 -0.002357  \n"
     ]
    }
   ],
   "source": [
    "k =  df.drop(['tax'],axis=1)\n",
    "X = df.drop(['medv','tax'],axis=1)\n",
    "y = df[\"medv\"]\n",
    "features = X.keys()\n",
    "print (X.head())"
   ]
  },
  {
   "cell_type": "code",
   "execution_count": 33,
   "metadata": {
    "collapsed": false
   },
   "outputs": [
    {
     "name": "stdout",
     "output_type": "stream",
     "text": [
      "Index(['ID', 'crim', 'zn', 'indus', 'chas', 'nox', 'rm', 'age', 'dis', 'rad',\n",
      "       'ptratio', 'black', 'lstat'],\n",
      "      dtype='object')\n"
     ]
    }
   ],
   "source": [
    "print (X.keys())"
   ]
  },
  {
   "cell_type": "code",
   "execution_count": 34,
   "metadata": {
    "collapsed": false
   },
   "outputs": [
    {
     "name": "stdout",
     "output_type": "stream",
     "text": [
      "                 ID          crim            zn         indus          chas  \\\n",
      "count  3.330000e+02  3.330000e+02  3.330000e+02  3.330000e+02  3.330000e+02   \n",
      "mean   1.713678e-16 -1.331517e-17  1.354439e-16 -1.792443e-16  1.562814e-17   \n",
      "std    2.927910e-01  9.999312e-02  2.267476e-01  2.591897e-01  2.379556e-01   \n",
      "min   -4.949544e-01 -4.561570e-02 -1.068919e-01 -3.908698e-01 -6.006006e-02   \n",
      "25%   -2.533702e-01 -4.462778e-02 -1.068919e-01 -2.282772e-01 -6.006006e-02   \n",
      "50%   -1.376624e-02 -4.214260e-02 -1.068919e-01 -5.161050e-02 -6.006006e-02   \n",
      "75%    2.496001e-01  4.323244e-03  1.810811e-02  2.520932e-01 -6.006006e-02   \n",
      "max    5.050456e-01  9.543843e-01  8.931081e-01  6.091302e-01  9.399399e-01   \n",
      "\n",
      "                nox            rm           age           dis           rad  \\\n",
      "count  3.330000e+02  3.330000e+02  3.330000e+02  3.330000e+02  3.330000e+02   \n",
      "mean  -9.343544e-17  9.251859e-18  2.358807e-17  1.466961e-17  1.133561e-17   \n",
      "std    2.365319e-01  1.363191e-01  2.992909e-01  2.067827e-01  3.800945e-01   \n",
      "min   -3.542061e-01 -5.237449e-01 -6.619833e-01 -2.693262e-01 -3.753754e-01   \n",
      "25%   -2.142884e-01 -7.389981e-02 -2.428343e-01 -1.657012e-01 -2.449406e-01   \n",
      "50%   -3.939124e-02 -1.231964e-02  9.014440e-02 -6.446644e-02 -2.014623e-01   \n",
      "75%    1.519668e-01  6.378416e-02  2.720593e-01  1.468334e-01  6.246246e-01   \n",
      "max    6.457939e-01  4.762551e-01  3.380167e-01  7.306738e-01  6.246246e-01   \n",
      "\n",
      "                tax       ptratio         black         lstat          medv  \n",
      "count  3.330000e+02  3.330000e+02  3.330000e+02  3.330000e+02  3.330000e+02  \n",
      "mean   2.653866e-16  3.357341e-16 -1.075216e-17  2.692207e-17  2.917253e-17  \n",
      "std    3.266577e-01  2.502118e-01  2.200930e-01  1.950271e-01  2.038548e-01  \n",
      "min   -4.230961e-01 -6.800056e-01 -9.048452e-01 -2.976114e-01 -3.948615e-01  \n",
      "25%   -2.491000e-01 -1.218661e-01  4.388384e-02 -1.472250e-01 -1.193060e-01  \n",
      "50%   -1.515856e-01  6.418046e-02  8.282640e-02 -4.264447e-02 -2.597264e-02  \n",
      "75%    4.908618e-01  2.037153e-01  9.347713e-02  1.077418e-01  4.958292e-02  \n",
      "max    5.769039e-01  3.199944e-01  9.515481e-02  7.023886e-01  6.051385e-01  \n"
     ]
    }
   ],
   "source": [
    "print (df.describe())"
   ]
  },
  {
   "cell_type": "code",
   "execution_count": 41,
   "metadata": {
    "collapsed": true
   },
   "outputs": [],
   "source": [
    "m1=0\n",
    "m2=0\n",
    "l1=0\n",
    "l2=0\n",
    "\n",
    "for x in range(1000):\n",
    "    \n",
    "    X_train, X_test, y_train, y_test = train_test_split(X, y, test_size=0.24,random_state=200)\n",
    "    model = LinearRegression().fit(X_train,y_train)\n",
    "    m1+=model.score(X_train,y_train)\n",
    "    m2+=model.score(X_test,y_test)\n",
    "    Y_pred = model.predict(X_test)\n",
    "    Y1_pred=model.predict(X_train)\n",
    "    l1+=loss(y_test, Y_pred)\n",
    "    l2+=loss(y_train, Y1_pred)"
   ]
  },
  {
   "cell_type": "code",
   "execution_count": 42,
   "metadata": {
    "collapsed": true
   },
   "outputs": [],
   "source": [
    "m1=m1/1000\n",
    "m2=m2/1000\n",
    "l1=l1/1000\n",
    "l2=l2/1000"
   ]
  },
  {
   "cell_type": "code",
   "execution_count": 43,
   "metadata": {
    "collapsed": false
   },
   "outputs": [
    {
     "data": {
      "text/plain": [
       "0.72045340835544869"
      ]
     },
     "execution_count": 43,
     "metadata": {},
     "output_type": "execute_result"
    }
   ],
   "source": [
    "m1 #training accuracy"
   ]
  },
  {
   "cell_type": "code",
   "execution_count": 44,
   "metadata": {
    "collapsed": false
   },
   "outputs": [
    {
     "data": {
      "text/plain": [
       "0.72262478919439599"
      ]
     },
     "execution_count": 44,
     "metadata": {},
     "output_type": "execute_result"
    }
   ],
   "source": [
    "m2 #test accuracy"
   ]
  },
  {
   "cell_type": "code",
   "execution_count": 45,
   "metadata": {
    "collapsed": false
   },
   "outputs": [
    {
     "data": {
      "text/plain": [
       "0.011024321414380861"
      ]
     },
     "execution_count": 45,
     "metadata": {},
     "output_type": "execute_result"
    }
   ],
   "source": [
    "l1 #training loss\n"
   ]
  },
  {
   "cell_type": "code",
   "execution_count": 46,
   "metadata": {
    "collapsed": false
   },
   "outputs": [
    {
     "data": {
      "text/plain": [
       "0.011706159033082066"
      ]
     },
     "execution_count": 46,
     "metadata": {},
     "output_type": "execute_result"
    }
   ],
   "source": [
    "l2 #test loss"
   ]
  },
  {
   "cell_type": "code",
   "execution_count": null,
   "metadata": {
    "collapsed": true
   },
   "outputs": [],
   "source": []
  },
  {
   "cell_type": "code",
   "execution_count": null,
   "metadata": {
    "collapsed": true
   },
   "outputs": [],
   "source": []
  }
 ],
 "metadata": {
  "anaconda-cloud": {},
  "kernelspec": {
   "display_name": "Python [conda root]",
   "language": "python",
   "name": "conda-root-py"
  },
  "language_info": {
   "codemirror_mode": {
    "name": "ipython",
    "version": 2
   },
   "file_extension": ".py",
   "mimetype": "text/x-python",
   "name": "python",
   "nbconvert_exporter": "python",
   "pygments_lexer": "ipython2",
   "version": "2.7.12"
  }
 },
 "nbformat": 4,
 "nbformat_minor": 2
}
