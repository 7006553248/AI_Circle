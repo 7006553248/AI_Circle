{
 "cells": [
  {
   "cell_type": "code",
   "execution_count": 1,
   "metadata": {
    "collapsed": false
   },
   "outputs": [
    {
     "name": "stderr",
     "output_type": "stream",
     "text": [
      "/home/greatskull/anaconda2/lib/python2.7/site-packages/sklearn/cross_validation.py:44: DeprecationWarning: This module was deprecated in version 0.18 in favor of the model_selection module into which all the refactored classes and functions are moved. Also note that the interface of the new CV iterators are different from that of this module. This module will be removed in 0.20.\n",
      "  \"This module will be removed in 0.20.\", DeprecationWarning)\n"
     ]
    }
   ],
   "source": [
    "import pandas as pd\n",
    "import sklearn\n",
    "from sklearn import linear_model\n",
    "from sklearn.linear_model import LinearRegression\n",
    "from sklearn.cross_validation import train_test_split\n",
    "\n",
    "import seaborn as sns\n",
    "import numpy as np\n",
    "from sklearn.metrics import mean_squared_error \n",
    "import matplotlib.pyplot as plt\n",
    "%matplotlib inline\n",
    "df = pd.read_csv(\"train.csv\")\n",
    "np.random.seed(4)\n",
    "\n"
   ]
  },
  {
   "cell_type": "code",
   "execution_count": 2,
   "metadata": {
    "collapsed": false
   },
   "outputs": [
    {
     "data": {
      "text/html": [
       "<div>\n",
       "<table border=\"1\" class=\"dataframe\">\n",
       "  <thead>\n",
       "    <tr style=\"text-align: right;\">\n",
       "      <th></th>\n",
       "      <th>ID</th>\n",
       "      <th>crim</th>\n",
       "      <th>zn</th>\n",
       "      <th>indus</th>\n",
       "      <th>chas</th>\n",
       "      <th>nox</th>\n",
       "      <th>rm</th>\n",
       "      <th>age</th>\n",
       "      <th>dis</th>\n",
       "      <th>rad</th>\n",
       "      <th>tax</th>\n",
       "      <th>ptratio</th>\n",
       "      <th>black</th>\n",
       "      <th>lstat</th>\n",
       "      <th>medv</th>\n",
       "    </tr>\n",
       "  </thead>\n",
       "  <tbody>\n",
       "    <tr>\n",
       "      <th>0</th>\n",
       "      <td>1</td>\n",
       "      <td>0.00632</td>\n",
       "      <td>18.0</td>\n",
       "      <td>2.31</td>\n",
       "      <td>0</td>\n",
       "      <td>0.538</td>\n",
       "      <td>6.575</td>\n",
       "      <td>65.2</td>\n",
       "      <td>4.0900</td>\n",
       "      <td>1</td>\n",
       "      <td>296</td>\n",
       "      <td>15.3</td>\n",
       "      <td>396.90</td>\n",
       "      <td>4.98</td>\n",
       "      <td>24.0</td>\n",
       "    </tr>\n",
       "    <tr>\n",
       "      <th>1</th>\n",
       "      <td>2</td>\n",
       "      <td>0.02731</td>\n",
       "      <td>0.0</td>\n",
       "      <td>7.07</td>\n",
       "      <td>0</td>\n",
       "      <td>0.469</td>\n",
       "      <td>6.421</td>\n",
       "      <td>78.9</td>\n",
       "      <td>4.9671</td>\n",
       "      <td>2</td>\n",
       "      <td>242</td>\n",
       "      <td>17.8</td>\n",
       "      <td>396.90</td>\n",
       "      <td>9.14</td>\n",
       "      <td>21.6</td>\n",
       "    </tr>\n",
       "    <tr>\n",
       "      <th>2</th>\n",
       "      <td>4</td>\n",
       "      <td>0.03237</td>\n",
       "      <td>0.0</td>\n",
       "      <td>2.18</td>\n",
       "      <td>0</td>\n",
       "      <td>0.458</td>\n",
       "      <td>6.998</td>\n",
       "      <td>45.8</td>\n",
       "      <td>6.0622</td>\n",
       "      <td>3</td>\n",
       "      <td>222</td>\n",
       "      <td>18.7</td>\n",
       "      <td>394.63</td>\n",
       "      <td>2.94</td>\n",
       "      <td>33.4</td>\n",
       "    </tr>\n",
       "    <tr>\n",
       "      <th>3</th>\n",
       "      <td>5</td>\n",
       "      <td>0.06905</td>\n",
       "      <td>0.0</td>\n",
       "      <td>2.18</td>\n",
       "      <td>0</td>\n",
       "      <td>0.458</td>\n",
       "      <td>7.147</td>\n",
       "      <td>54.2</td>\n",
       "      <td>6.0622</td>\n",
       "      <td>3</td>\n",
       "      <td>222</td>\n",
       "      <td>18.7</td>\n",
       "      <td>396.90</td>\n",
       "      <td>5.33</td>\n",
       "      <td>36.2</td>\n",
       "    </tr>\n",
       "    <tr>\n",
       "      <th>4</th>\n",
       "      <td>7</td>\n",
       "      <td>0.08829</td>\n",
       "      <td>12.5</td>\n",
       "      <td>7.87</td>\n",
       "      <td>0</td>\n",
       "      <td>0.524</td>\n",
       "      <td>6.012</td>\n",
       "      <td>66.6</td>\n",
       "      <td>5.5605</td>\n",
       "      <td>5</td>\n",
       "      <td>311</td>\n",
       "      <td>15.2</td>\n",
       "      <td>395.60</td>\n",
       "      <td>12.43</td>\n",
       "      <td>22.9</td>\n",
       "    </tr>\n",
       "  </tbody>\n",
       "</table>\n",
       "</div>"
      ],
      "text/plain": [
       "   ID     crim    zn  indus  chas    nox     rm   age     dis  rad  tax  \\\n",
       "0   1  0.00632  18.0   2.31     0  0.538  6.575  65.2  4.0900    1  296   \n",
       "1   2  0.02731   0.0   7.07     0  0.469  6.421  78.9  4.9671    2  242   \n",
       "2   4  0.03237   0.0   2.18     0  0.458  6.998  45.8  6.0622    3  222   \n",
       "3   5  0.06905   0.0   2.18     0  0.458  7.147  54.2  6.0622    3  222   \n",
       "4   7  0.08829  12.5   7.87     0  0.524  6.012  66.6  5.5605    5  311   \n",
       "\n",
       "   ptratio   black  lstat  medv  \n",
       "0     15.3  396.90   4.98  24.0  \n",
       "1     17.8  396.90   9.14  21.6  \n",
       "2     18.7  394.63   2.94  33.4  \n",
       "3     18.7  396.90   5.33  36.2  \n",
       "4     15.2  395.60  12.43  22.9  "
      ]
     },
     "execution_count": 2,
     "metadata": {},
     "output_type": "execute_result"
    }
   ],
   "source": [
    "df.head(5)"
   ]
  },
  {
   "cell_type": "code",
   "execution_count": 3,
   "metadata": {
    "collapsed": false
   },
   "outputs": [
    {
     "data": {
      "text/plain": [
       "(333, 15)"
      ]
     },
     "execution_count": 3,
     "metadata": {},
     "output_type": "execute_result"
    }
   ],
   "source": [
    "df.shape"
   ]
  },
  {
   "cell_type": "code",
   "execution_count": 4,
   "metadata": {
    "collapsed": true
   },
   "outputs": [],
   "source": [
    "\n",
    "def handle_non_numerical_data(df):\n",
    "    columns = df.columns.values\n",
    "    for column in columns:\n",
    "        text_digit_vals = {}\n",
    "        def convert_to_int(val):\n",
    "            return text_digit_vals[val]\n",
    "\n",
    "        if df[column].dtype != np.int64 and df[column].dtype != np.float64:\n",
    "            column_contents = df[column].values.tolist()\n",
    "            unique_elements = set(column_contents)\n",
    "            x = 0\n",
    "            for unique in unique_elements:\n",
    "                if unique not in text_digit_vals:\n",
    "                    text_digit_vals[unique] = x\n",
    "                    x+=1\n",
    "\n",
    "            df[column] = list(map(convert_to_int, df[column]))\n",
    "\n",
    "    return df"
   ]
  },
  {
   "cell_type": "code",
   "execution_count": 5,
   "metadata": {
    "collapsed": false
   },
   "outputs": [
    {
     "name": "stdout",
     "output_type": "stream",
     "text": [
      "   ID     crim    zn  indus  chas    nox     rm   age     dis  rad  tax  \\\n",
      "0   1  0.00632  18.0   2.31     0  0.538  6.575  65.2  4.0900    1  296   \n",
      "1   2  0.02731   0.0   7.07     0  0.469  6.421  78.9  4.9671    2  242   \n",
      "2   4  0.03237   0.0   2.18     0  0.458  6.998  45.8  6.0622    3  222   \n",
      "3   5  0.06905   0.0   2.18     0  0.458  7.147  54.2  6.0622    3  222   \n",
      "4   7  0.08829  12.5   7.87     0  0.524  6.012  66.6  5.5605    5  311   \n",
      "\n",
      "   ptratio   black  lstat  medv  \n",
      "0     15.3  396.90   4.98  24.0  \n",
      "1     17.8  396.90   9.14  21.6  \n",
      "2     18.7  394.63   2.94  33.4  \n",
      "3     18.7  396.90   5.33  36.2  \n",
      "4     15.2  395.60  12.43  22.9  \n"
     ]
    }
   ],
   "source": [
    "#for removing non numeric data\n",
    "df = handle_non_numerical_data(df)\n",
    "print(df.head(5))"
   ]
  },
  {
   "cell_type": "code",
   "execution_count": 6,
   "metadata": {
    "collapsed": false
   },
   "outputs": [
    {
     "data": {
      "text/plain": [
       "ID         False\n",
       "crim       False\n",
       "zn         False\n",
       "indus      False\n",
       "chas       False\n",
       "nox        False\n",
       "rm         False\n",
       "age        False\n",
       "dis        False\n",
       "rad        False\n",
       "tax        False\n",
       "ptratio    False\n",
       "black      False\n",
       "lstat      False\n",
       "medv       False\n",
       "dtype: bool"
      ]
     },
     "execution_count": 6,
     "metadata": {},
     "output_type": "execute_result"
    }
   ],
   "source": [
    "#for checking null values\n",
    "df.isnull().any()"
   ]
  },
  {
   "cell_type": "code",
   "execution_count": 7,
   "metadata": {
    "collapsed": false
   },
   "outputs": [
    {
     "name": "stdout",
     "output_type": "stream",
     "text": [
      "      crim    zn  indus    nox     rm   age     dis  tax  ptratio   black  \\\n",
      "0  0.00632  18.0   2.31  0.538  6.575  65.2  4.0900  296     15.3  396.90   \n",
      "1  0.02731   0.0   7.07  0.469  6.421  78.9  4.9671  242     17.8  396.90   \n",
      "2  0.03237   0.0   2.18  0.458  6.998  45.8  6.0622  222     18.7  394.63   \n",
      "3  0.06905   0.0   2.18  0.458  7.147  54.2  6.0622  222     18.7  396.90   \n",
      "4  0.08829  12.5   7.87  0.524  6.012  66.6  5.5605  311     15.2  395.60   \n",
      "\n",
      "   lstat  medv  \n",
      "0   4.98  24.0  \n",
      "1   9.14  21.6  \n",
      "2   2.94  33.4  \n",
      "3   5.33  36.2  \n",
      "4  12.43  22.9  \n"
     ]
    },
    {
     "data": {
      "text/plain": [
       "((333, 15), (333, 12))"
      ]
     },
     "execution_count": 7,
     "metadata": {},
     "output_type": "execute_result"
    }
   ],
   "source": [
    "#removing categorical data\n",
    "df_new = df.drop(['chas','ID','rad'],axis=1)\n",
    "print(df_new.head(5))\n",
    "df.shape,df_new.shape"
   ]
  },
  {
   "cell_type": "code",
   "execution_count": 8,
   "metadata": {
    "collapsed": false
   },
   "outputs": [],
   "source": [
    "#removing outliers \n",
    "df_new2 = df_new[df_new.apply(lambda x: np.abs(x - x.mean()) / x.std() < 4).all(axis=1)]\n",
    "\n"
   ]
  },
  {
   "cell_type": "code",
   "execution_count": 9,
   "metadata": {
    "collapsed": false
   },
   "outputs": [
    {
     "data": {
      "text/plain": [
       "((333, 12), (325, 12))"
      ]
     },
     "execution_count": 9,
     "metadata": {},
     "output_type": "execute_result"
    }
   ],
   "source": [
    "df_new.shape,df_new2.shape"
   ]
  },
  {
   "cell_type": "code",
   "execution_count": 10,
   "metadata": {
    "collapsed": false
   },
   "outputs": [
    {
     "data": {
      "text/plain": [
       "<matplotlib.axes._subplots.AxesSubplot at 0x7fc39b2f8c90>"
      ]
     },
     "execution_count": 10,
     "metadata": {},
     "output_type": "execute_result"
    },
    {
     "data": {
      "image/png": "[encoded data removed]",
      "text/plain": [
       "<matplotlib.figure.Figure at 0x7fc39b2f8950>"
      ]
     },
     "metadata": {},
     "output_type": "display_data"
    }
   ],
   "source": [
    "#Get correlations\n",
    "corr = df_new2.corr()\n",
    "plt.rcParams[\"figure.figsize\"] = (10,10)\n",
    "sns.heatmap(corr, cmap = \"coolwarm\", annot = True)"
   ]
  },
  {
   "cell_type": "code",
   "execution_count": 11,
   "metadata": {
    "collapsed": false
   },
   "outputs": [
    {
     "data": {
      "text/plain": [
       "crim       2.646708\n",
       "zn         2.332891\n",
       "indus      0.346733\n",
       "nox        0.771853\n",
       "rm         0.290768\n",
       "age       -0.577285\n",
       "dis        0.909605\n",
       "tax        0.706637\n",
       "ptratio   -0.752922\n",
       "black     -3.390695\n",
       "lstat      0.973360\n",
       "medv       1.189365\n",
       "dtype: float64"
      ]
     },
     "execution_count": 11,
     "metadata": {},
     "output_type": "execute_result"
    }
   ],
   "source": [
    "df_new2.skew()"
   ]
  },
  {
   "cell_type": "code",
   "execution_count": 12,
   "metadata": {
    "collapsed": false
   },
   "outputs": [
    {
     "data": {
      "text/plain": [
       "0     -5.064036\n",
       "1     -3.600502\n",
       "2     -3.430523\n",
       "3     -2.672924\n",
       "4     -2.427128\n",
       "5     -1.492144\n",
       "6     -2.141572\n",
       "7     -2.366804\n",
       "8     -0.462416\n",
       "9     -0.449480\n",
       "10    -0.466187\n",
       "11     0.052526\n",
       "12    -0.219762\n",
       "13     0.224575\n",
       "14    -0.160122\n",
       "15     0.209020\n",
       "16    -0.011637\n",
       "17    -0.045238\n",
       "18     0.122934\n",
       "19     0.303595\n",
       "20     0.477984\n",
       "21    -1.742684\n",
       "22    -3.588853\n",
       "23    -3.393527\n",
       "24    -1.955456\n",
       "25    -1.836589\n",
       "26    -2.098094\n",
       "27    -1.763639\n",
       "28    -1.669400\n",
       "29    -1.472855\n",
       "         ...   \n",
       "303    2.059152\n",
       "304    1.151711\n",
       "305    1.328395\n",
       "306    1.486655\n",
       "307    2.745712\n",
       "308    2.570710\n",
       "309    1.395851\n",
       "310    1.272196\n",
       "311    2.086391\n",
       "312    1.583383\n",
       "313    2.709609\n",
       "314    2.325618\n",
       "315    2.662613\n",
       "316    1.761989\n",
       "317    1.741900\n",
       "318    1.036162\n",
       "319    0.866499\n",
       "320    1.739018\n",
       "321    1.576020\n",
       "322   -1.891403\n",
       "323   -1.572817\n",
       "324   -2.246772\n",
       "325   -2.195346\n",
       "326   -1.752673\n",
       "327   -1.315351\n",
       "328   -1.726927\n",
       "329   -2.770511\n",
       "330   -3.095111\n",
       "331   -2.800824\n",
       "332   -3.048922\n",
       "Name: crim, dtype: float64"
      ]
     },
     "execution_count": 12,
     "metadata": {},
     "output_type": "execute_result"
    }
   ],
   "source": [
    "df_new2['crim'].apply(np.log)\n",
    "#df_new['zn'].apply(np.log)"
   ]
  },
  {
   "cell_type": "code",
   "execution_count": 13,
   "metadata": {
    "collapsed": true
   },
   "outputs": [],
   "source": [
    "data = (df_new2 - df_new2.mean())/df_new2.std()"
   ]
  },
  {
   "cell_type": "code",
   "execution_count": 14,
   "metadata": {
    "collapsed": true
   },
   "outputs": [],
   "source": [
    "data2 = (data - data.mean())/(data.max() - data.min())"
   ]
  },
  {
   "cell_type": "code",
   "execution_count": 15,
   "metadata": {
    "collapsed": false
   },
   "outputs": [],
   "source": [
    "#re-add categorical data if you're done with pre-processing. \n",
    "x3=data2\n",
    "y3=data2['medv']\n",
    "data2['ID'] =df['ID']\n",
    "data2['chas']= df['chas']\n",
    "data2['rad']=df['rad']\n",
    "x= data2\n",
    "y = data2['medv']\n",
    "x1=df_new2\n",
    "y1=df_new2['medv']\n",
    "x2=df\n",
    "y2=df['medv']\n",
    "\n"
   ]
  },
  {
   "cell_type": "code",
   "execution_count": 16,
   "metadata": {
    "collapsed": true
   },
   "outputs": [],
   "source": [
    "def eval(X,Y,n):\n",
    "    \n",
    "    train_score=0\n",
    "    test_score=0\n",
    "    train_loss=0\n",
    "    test_loss=0\n",
    "    \n",
    "    for i in range(n):\n",
    "        X_train, X_test, Y_train, Y_test = train_test_split(x, y, test_size=0.30)\n",
    "        model = LinearRegression().fit(X_train,Y_train)\n",
    "        train_score+=model.score(X_train,Y_train)\n",
    "        test_score+=model.score(X_test,Y_test)\n",
    "        Y_predtrain =model.predict(X_train)\n",
    "        Y_predtest = model.predict(X_test)\n",
    "        train_loss+=sklearn.metrics.mean_squared_error(Y_train, Y_predtrain)\n",
    "        test_loss+=sklearn.metrics.mean_squared_error(Y_test, Y_predtest)\n",
    "    print(train_score/n)\n",
    "    print(train_loss/n)\n",
    "    print(test_score/n)\n",
    "    print(test_loss/n)   "
   ]
  },
  {
   "cell_type": "code",
   "execution_count": 17,
   "metadata": {
    "collapsed": false
   },
   "outputs": [
    {
     "name": "stdout",
     "output_type": "stream",
     "text": [
      "1.0\n",
      "2.7798281043e-29\n",
      "1.0\n",
      "2.83053317791e-29\n"
     ]
    }
   ],
   "source": [
    "eval(x,y,300)"
   ]
  },
  {
   "cell_type": "code",
   "execution_count": 18,
   "metadata": {
    "collapsed": false
   },
   "outputs": [
    {
     "name": "stdout",
     "output_type": "stream",
     "text": [
      "1.0\n",
      "3.27852299639e-29\n",
      "1.0\n",
      "3.33273066769e-29\n"
     ]
    }
   ],
   "source": [
    "eval(x1,y1,300)"
   ]
  },
  {
   "cell_type": "code",
   "execution_count": 19,
   "metadata": {
    "collapsed": false
   },
   "outputs": [
    {
     "name": "stdout",
     "output_type": "stream",
     "text": [
      "1.0\n",
      "2.68306698447e-29\n",
      "1.0\n",
      "2.71944087089e-29\n"
     ]
    }
   ],
   "source": [
    "eval(x2,y2,300)"
   ]
  },
  {
   "cell_type": "code",
   "execution_count": 20,
   "metadata": {
    "collapsed": false
   },
   "outputs": [
    {
     "name": "stdout",
     "output_type": "stream",
     "text": [
      "1.0\n",
      "2.69896055419e-29\n",
      "1.0\n",
      "2.71384042002e-29\n"
     ]
    }
   ],
   "source": [
    "eval(x3,y3,300)"
   ]
  },
  {
   "cell_type": "code",
   "execution_count": 29,
   "metadata": {
    "collapsed": false
   },
   "outputs": [
    {
     "data": {
      "text/html": [
       "<div>\n",
       "<table border=\"1\" class=\"dataframe\">\n",
       "  <thead>\n",
       "    <tr style=\"text-align: right;\">\n",
       "      <th></th>\n",
       "      <th>crim</th>\n",
       "      <th>zn</th>\n",
       "      <th>indus</th>\n",
       "      <th>nox</th>\n",
       "      <th>rm</th>\n",
       "      <th>age</th>\n",
       "      <th>dis</th>\n",
       "      <th>tax</th>\n",
       "      <th>ptratio</th>\n",
       "      <th>black</th>\n",
       "      <th>lstat</th>\n",
       "      <th>medv</th>\n",
       "      <th>ID</th>\n",
       "      <th>chas</th>\n",
       "      <th>rad</th>\n",
       "    </tr>\n",
       "  </thead>\n",
       "  <tbody>\n",
       "    <tr>\n",
       "      <th>0</th>\n",
       "      <td>-0.093825</td>\n",
       "      <td>0.070477</td>\n",
       "      <td>-0.326516</td>\n",
       "      <td>-0.033042</td>\n",
       "      <td>0.057263</td>\n",
       "      <td>-0.026331</td>\n",
       "      <td>0.035110</td>\n",
       "      <td>-0.204512</td>\n",
       "      <td>-0.361038</td>\n",
       "      <td>0.080720</td>\n",
       "      <td>-0.200500</td>\n",
       "      <td>0.020229</td>\n",
       "      <td>1</td>\n",
       "      <td>0</td>\n",
       "      <td>1</td>\n",
       "    </tr>\n",
       "    <tr>\n",
       "      <th>1</th>\n",
       "      <td>-0.093093</td>\n",
       "      <td>-0.109523</td>\n",
       "      <td>-0.150220</td>\n",
       "      <td>-0.175017</td>\n",
       "      <td>0.027441</td>\n",
       "      <td>0.119414</td>\n",
       "      <td>0.126658</td>\n",
       "      <td>-0.307763</td>\n",
       "      <td>-0.070340</td>\n",
       "      <td>0.080720</td>\n",
       "      <td>-0.085710</td>\n",
       "      <td>-0.033825</td>\n",
       "      <td>2</td>\n",
       "      <td>0</td>\n",
       "      <td>2</td>\n",
       "    </tr>\n",
       "    <tr>\n",
       "      <th>2</th>\n",
       "      <td>-0.092916</td>\n",
       "      <td>-0.109523</td>\n",
       "      <td>-0.331331</td>\n",
       "      <td>-0.197651</td>\n",
       "      <td>0.139176</td>\n",
       "      <td>-0.232714</td>\n",
       "      <td>0.240961</td>\n",
       "      <td>-0.346004</td>\n",
       "      <td>0.034311</td>\n",
       "      <td>0.074665</td>\n",
       "      <td>-0.256791</td>\n",
       "      <td>0.231940</td>\n",
       "      <td>4</td>\n",
       "      <td>0</td>\n",
       "      <td>3</td>\n",
       "    </tr>\n",
       "    <tr>\n",
       "      <th>3</th>\n",
       "      <td>-0.091636</td>\n",
       "      <td>-0.109523</td>\n",
       "      <td>-0.331331</td>\n",
       "      <td>-0.197651</td>\n",
       "      <td>0.168030</td>\n",
       "      <td>-0.143352</td>\n",
       "      <td>0.240961</td>\n",
       "      <td>-0.346004</td>\n",
       "      <td>0.034311</td>\n",
       "      <td>0.080720</td>\n",
       "      <td>-0.190842</td>\n",
       "      <td>0.295003</td>\n",
       "      <td>5</td>\n",
       "      <td>0</td>\n",
       "      <td>3</td>\n",
       "    </tr>\n",
       "    <tr>\n",
       "      <th>4</th>\n",
       "      <td>-0.090964</td>\n",
       "      <td>0.015477</td>\n",
       "      <td>-0.120590</td>\n",
       "      <td>-0.061849</td>\n",
       "      <td>-0.051761</td>\n",
       "      <td>-0.011437</td>\n",
       "      <td>0.188595</td>\n",
       "      <td>-0.175832</td>\n",
       "      <td>-0.372665</td>\n",
       "      <td>0.077252</td>\n",
       "      <td>0.005074</td>\n",
       "      <td>-0.004546</td>\n",
       "      <td>7</td>\n",
       "      <td>0</td>\n",
       "      <td>5</td>\n",
       "    </tr>\n",
       "  </tbody>\n",
       "</table>\n",
       "</div>"
      ],
      "text/plain": [
       "       crim        zn     indus       nox        rm       age       dis  \\\n",
       "0 -0.093825  0.070477 -0.326516 -0.033042  0.057263 -0.026331  0.035110   \n",
       "1 -0.093093 -0.109523 -0.150220 -0.175017  0.027441  0.119414  0.126658   \n",
       "2 -0.092916 -0.109523 -0.331331 -0.197651  0.139176 -0.232714  0.240961   \n",
       "3 -0.091636 -0.109523 -0.331331 -0.197651  0.168030 -0.143352  0.240961   \n",
       "4 -0.090964  0.015477 -0.120590 -0.061849 -0.051761 -0.011437  0.188595   \n",
       "\n",
       "        tax   ptratio     black     lstat      medv  ID  chas  rad  \n",
       "0 -0.204512 -0.361038  0.080720 -0.200500  0.020229   1     0    1  \n",
       "1 -0.307763 -0.070340  0.080720 -0.085710 -0.033825   2     0    2  \n",
       "2 -0.346004  0.034311  0.074665 -0.256791  0.231940   4     0    3  \n",
       "3 -0.346004  0.034311  0.080720 -0.190842  0.295003   5     0    3  \n",
       "4 -0.175832 -0.372665  0.077252  0.005074 -0.004546   7     0    5  "
      ]
     },
     "execution_count": 29,
     "metadata": {},
     "output_type": "execute_result"
    }
   ],
   "source": [
    "x.head()"
   ]
  },
  {
   "cell_type": "code",
   "execution_count": null,
   "metadata": {
    "collapsed": true
   },
   "outputs": [],
   "source": []
  }
 ],
 "metadata": {
  "anaconda-cloud": {},
  "kernelspec": {
   "display_name": "Python [conda root]",
   "language": "python",
   "name": "conda-root-py"
  },
  "language_info": {
   "codemirror_mode": {
    "name": "ipython",
    "version": 2
   },
   "file_extension": ".py",
   "mimetype": "text/x-python",
   "name": "python",
   "nbconvert_exporter": "python",
   "pygments_lexer": "ipython2",
   "version": "2.7.12"
  }
 },
 "nbformat": 4,
 "nbformat_minor": 1
}
